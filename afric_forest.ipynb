{
 "cells": [
  {
   "cell_type": "code",
   "execution_count": null,
   "id": "8d8d6ec7",
   "metadata": {},
   "outputs": [],
   "source": [
    "import numpy as np\n",
    "import pandas as pd\n",
    "import xarray as xr\n",
    "from sklearn.preprocessing import MaxAbsScaler, MinMaxScaler, StandardScaler\n",
    "from sklearn.metrics import mean_squared_error\n",
    "import pygmt\n",
    "from sklearn.model_selection import train_test_split\n",
    "from tensorflow.keras import models, layers, regularizers,optimizers\n",
    "from tensorflow.keras import backend as K\n",
    "from tensorflow.keras.callbacks import EarlyStopping,ReduceLROnPlateau\n",
    "from tensorflow.keras.utils import to_categorical\n",
    "from sklearn.preprocessing import MaxAbsScaler, MinMaxScaler, StandardScaler\n",
    "import keras\n",
    "from sklearn.ensemble import RandomForestRegressor"
   ]
  },
  {
   "cell_type": "code",
   "execution_count": null,
   "id": "92e64ead",
   "metadata": {},
   "outputs": [],
   "source": [
    "# ship depth\n",
    "data = pygmt.select(region=\"-15.5/5.5/-4.5/4.5\",data=\"data/guinea.txt\")\n",
    "control, check = train_test_split(data, train_size=0.8, test_size=0.2, random_state=17)\n",
    "\n",
    "# short G\n",
    "rou=1\n",
    "d=-8000\n",
    "control_short=(control.values[:,2]-d)*2*3.1415*6.67259*(10**-8)*rou*100000 # short wavelength gravity ano\n",
    "control_short = np.reshape(control_short, (len(control_short), 1))\n",
    "short = np.concatenate([control.values[:,0:2],control_short],axis=1)\n",
    "# short = pygmt.xyz2grd(data=short,spacing=\"15s\",region=\"142.5/147.5/22.5/27.5\")\n",
    "pygmt.surface(region=\"-15.5/5.5/-4.5/4.5\", spacing=\"1m\",outgrid=\"short.grd\",data=short)"
   ]
  },
  {
   "cell_type": "code",
   "execution_count": null,
   "id": "0b7c28af",
   "metadata": {},
   "outputs": [],
   "source": [
    "# ############### train data #######################################################\n",
    "control_lon = np.reshape(control.values[:,0],(-1,1))\n",
    "control_lat = np.reshape(control.values[:,1],(-1,1))\n",
    "control_depth = np.reshape(control.values[:,2],(-1,1))\n",
    "# free\n",
    "# vgg\n",
    "# nvd\n",
    "# evd\n",
    "\n",
    "# ################# normalization ################\n",
    "# ############### scaler ######################\n",
    "scalerlon = MinMaxScaler().fit(control_lon)\n",
    "scalerlat = MinMaxScaler().fit(control_lat)\n",
    "scalerdepth = MinMaxScaler().fit(control_depth)\n",
    "# scalershort G\n",
    "scalershort = MinMaxScaler().fit(control_short)  #short gravity\n",
    "# scalerfree\n",
    "# scalervgg\n",
    "# scalernvd\n",
    "# scalerevd\n",
    "# ############## nomalizate ###############\n",
    "lon_train = scalerlon.fit_transform(control_lon)\n",
    "lat_train = scalerlat.fit_transform(control_lat)\n",
    "depth_train = scalerdepth.fit_transform(control_depth)\n",
    "# shortG\n",
    "short_train = scalershort.fit_transform(control_short)\n",
    "# free\n",
    "# vgg\n",
    "\n",
    "# nvd\n",
    "# evd\n",
    "\n",
    "# x_trian y_train\n",
    "x_train = np.concatenate((lon_train,lat_train,short_train),axis=1)\n",
    "y_train = depth_train\n",
    "from sklearn.utils import shuffle\n",
    "x_train, y_train = shuffle(x_train, y_train)\n",
    "\n",
    "\n",
    "# ###################################################### test data #################################\n",
    "check_short = pygmt.grdtrack(points=check.values,grid=\"short.grd\",no_skip=True)\n",
    "check_short = np.reshape(check_short.values[:,3],(-1,1))\n",
    "check_lon = np.reshape(check.values[:,0],(-1,1))\n",
    "check_lat = np.reshape(check.values[:,1],(-1,1))\n",
    "check_depth = np.reshape(check.values[:,2],(-1,1))\n",
    "# free\n",
    "# vgg\n",
    "# nvd\n",
    "# evd\n",
    "\n",
    "# ################# normalization ################\n",
    "\n",
    "lon_test = scalerlon.fit_transform(check_lon)\n",
    "lat_test= scalerlat.fit_transform(check_lat)\n",
    "depth_test = scalerdepth.fit_transform(check_depth)\n",
    "# shortG\n",
    "short_test = scalershort.fit_transform(check_short)\n",
    "# free\n",
    "# vgg\n",
    "# nvd\n",
    "# evd\n",
    "\n",
    "# x_test y_test\n",
    "x_test = np.concatenate((lon_test,lat_test,short_test),axis=1)\n",
    "y_test = depth_test"
   ]
  },
  {
   "cell_type": "code",
   "execution_count": null,
   "id": "25ed00ff",
   "metadata": {},
   "outputs": [],
   "source": [
    "clf = RandomForestRegressor (n_estimators=100, random_state=60)\n",
    "clf.fit(x_train, y_train)"
   ]
  },
  {
   "cell_type": "code",
   "execution_count": null,
   "id": "632e0b96",
   "metadata": {},
   "outputs": [],
   "source": [
    "score = clf.score(x_test, y_test)\n",
    "score"
   ]
  },
  {
   "cell_type": "code",
   "execution_count": null,
   "id": "e43ea7e5",
   "metadata": {},
   "outputs": [],
   "source": [
    "pre = clf.predict(x_test)\n",
    "pre.shape\n",
    "pre_raw = scalerdepth.inverse_transform(np.reshape(pre,(-1,1)))\n",
    "check_depth = scalerdepth.inverse_transform(y_test)\n",
    "m = np.mean(check_depth-pre_raw)\n",
    "std = np.std(check_depth-pre_raw)\n",
    "print(std,m)"
   ]
  },
  {
   "cell_type": "code",
   "execution_count": null,
   "id": "b04c68b4",
   "metadata": {},
   "outputs": [],
   "source": [
    "free = pygmt.grdcut(grid=\"D:/MAwork/zhonglifanyanshuishen/grav2depth/GeoModel//Free_Air_Gravity_Anomalies/Free_Air_Gravity_Anomalies.nc\", region=\"-15.5/5.5/-4.5/4.5\")\n",
    "free.to_netcdf(\"free3.grd\")\n",
    "free = pygmt.grd2xyz(grid=free, region=\"-15.5/5.5/-4.5/4.5\")\n",
    "free_1m = pygmt.surface(region=\"-15.5/5.5/-4.5/4.5\", spacing=\"1m\",data=free)"
   ]
  },
  {
   "cell_type": "code",
   "execution_count": null,
   "id": "c2b4b696",
   "metadata": {},
   "outputs": [],
   "source": [
    "control_lon = np.reshape(control.values[:,0],(-1,1))\n",
    "control_lat = np.reshape(control.values[:,1],(-1,1))\n",
    "control_depth = np.reshape(control.values[:,2],(-1,1))\n",
    "\n",
    "control_free = pygmt.grdtrack(points=control.values,grid=\"free3.grd\",no_skip=True)\n",
    "control_free = np.reshape(control_free.values[:,3], (len(control_free), 1))\n",
    "control_long = control_free-control_short\n",
    "long = np.concatenate([control.values[:,0:2],control_long],axis=1)\n",
    "# long\n",
    "long = pygmt.surface(region=\"-15.5/5.5/-4.5/4.5\", spacing=\"1m\",data=long)\n",
    "short = free_1m - long"
   ]
  },
  {
   "cell_type": "code",
   "execution_count": null,
   "id": "175c53c3",
   "metadata": {},
   "outputs": [],
   "source": [
    "free_short = pygmt.grd2xyz(grid=short, region=\"-15.5/5.5/-4.5/4.5\")\n",
    "fs_short = np.reshape(free_short.values[:,2],(-1,1))\n",
    "\n",
    "fs_lon = np.reshape(free_short.values[:,0],(-1,1))\n",
    "fs_lat = np.reshape(free_short.values[:,1],(-1,1))"
   ]
  },
  {
   "cell_type": "code",
   "execution_count": null,
   "id": "59b22cf7",
   "metadata": {},
   "outputs": [],
   "source": [
    "lon_pre = scalerlon.fit_transform(fs_lon)\n",
    "lat_pre= scalerlat.fit_transform(fs_lat)\n",
    "\n",
    "# shortG\n",
    "short_pre = scalershort.fit_transform(fs_short)\n",
    "x_pre = np.concatenate((lon_pre,lat_pre,short_pre),axis=1)"
   ]
  },
  {
   "cell_type": "code",
   "execution_count": null,
   "id": "34d2b339",
   "metadata": {},
   "outputs": [],
   "source": [
    "pre_all = clf.predict(x_pre)\n",
    "pre_raw_all = scalerdepth.inverse_transform(np.reshape(pre_all,(-1,1)))\n",
    "fs_lon = scalerlon.inverse_transform(np.reshape(x_pre[:,0],(-1,1)))\n",
    "fs_lat = scalerlat.inverse_transform(np.reshape(x_pre[:,1],(-1,1)))"
   ]
  },
  {
   "cell_type": "code",
   "execution_count": null,
   "id": "00e63ce7",
   "metadata": {},
   "outputs": [],
   "source": [
    "pre_sg = np.concatenate((fs_lon,fs_lat,pre_raw_all),axis=1)"
   ]
  },
  {
   "cell_type": "code",
   "execution_count": null,
   "id": "b441cf1e",
   "metadata": {},
   "outputs": [],
   "source": [
    "pygmt.surface(region=\"142.6/147.3/23/27\", spacing=\"1m\",outgrid=\"depth_forest.grd\",data=pre_sg)"
   ]
  }
 ],
 "metadata": {
  "kernelspec": {
   "display_name": "onlygmt",
   "language": "python",
   "name": "onlygmt"
  },
  "language_info": {
   "codemirror_mode": {
    "name": "ipython",
    "version": 3
   },
   "file_extension": ".py",
   "mimetype": "text/x-python",
   "name": "python",
   "nbconvert_exporter": "python",
   "pygments_lexer": "ipython3",
   "version": "3.11.4"
  }
 },
 "nbformat": 4,
 "nbformat_minor": 5
}
